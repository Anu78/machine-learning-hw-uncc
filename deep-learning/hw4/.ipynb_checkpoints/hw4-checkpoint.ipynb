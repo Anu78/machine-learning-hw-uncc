{
 "cells": [
  {
   "cell_type": "code",
   "execution_count": 1,
   "id": "49dc435d-260e-4c29-86fb-ea0909be5532",
   "metadata": {},
   "outputs": [],
   "source": [
    "import torch\n",
    "import pandas as pd\n",
    "import numpy as np \n",
    "from torch.utils.data import DataLoader, Dataset"
   ]
  },
  {
   "cell_type": "code",
   "execution_count": null,
   "id": "a05beff6-9bbb-4b69-9a5d-f3a3386bfeae",
   "metadata": {},
   "outputs": [],
   "source": [
    "# import dataset using pd \n",
    "dataset = pd.read_csv("
   ]
  }
 ],
 "metadata": {
  "kernelspec": {
   "display_name": "Python 3 (ipykernel)",
   "language": "python",
   "name": "python3"
  },
  "language_info": {
   "codemirror_mode": {
    "name": "ipython",
    "version": 3
   },
   "file_extension": ".py",
   "mimetype": "text/x-python",
   "name": "python",
   "nbconvert_exporter": "python",
   "pygments_lexer": "ipython3",
   "version": "3.11.9"
  }
 },
 "nbformat": 4,
 "nbformat_minor": 5
}
